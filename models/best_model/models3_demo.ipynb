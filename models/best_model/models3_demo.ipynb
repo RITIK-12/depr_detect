{
 "cells": [
  {
   "cell_type": "code",
   "execution_count": 2,
   "metadata": {},
   "outputs": [
    {
     "name": "stderr",
     "output_type": "stream",
     "text": [
      "Using TensorFlow backend.\n"
     ]
    }
   ],
   "source": [
    "import numpy as np\n",
    "from model_age import model_generate_age\n",
    "from model_gender import model_generate_gender\n",
    "from model_emotion import model_generate_emotion\n",
    "from matplotlib.pyplot import imshow\n",
    "%matplotlib inline\n"
   ]
  },
  {
   "cell_type": "code",
   "execution_count": 3,
   "metadata": {},
   "outputs": [],
   "source": [
    "# Compute the accuracy of the emotion dataset\n",
    "def compute_accuracy(model, X_test, Y_test):\n",
    "    Y_test_pred = model.predict(X_test, verbose=1)\n",
    "    Y_test_pred_arg = np.argmax(Y_test_pred, axis=1)\n",
    "    count = 0\n",
    "    for i in range(Y_test.shape[0]):\n",
    "        if (Y_test[i][Y_test_pred_arg[i]] == np.max(Y_test[i])):\n",
    "            count += 1\n",
    "    accuracy_score_test = count / Y_test.shape[0]\n",
    "    print(accuracy_score_test)"
   ]
  },
  {
   "cell_type": "code",
   "execution_count": 4,
   "metadata": {},
   "outputs": [],
   "source": [
    "emotion_table = {0: 'neutral',\n",
    "                 1: 'happiness',\n",
    "                 2: 'surprise',\n",
    "                 3: 'sadness',\n",
    "                 4: 'anger',\n",
    "                 5: 'disgust',\n",
    "                 6: 'fear',\n",
    "                 7: 'contempt'}\n",
    "\n",
    "gender_table = {0: 'man',\n",
    "                1: 'woman'\n",
    "               }\n",
    "\n",
    "# Read the dataset\n",
    "X_test = np.load('./emotion/Test/final_data.npy')\n",
    "Y_test = np.load('./emotion/Test/final_labels_data.npy')"
   ]
  },
  {
   "cell_type": "code",
   "execution_count": null,
   "metadata": {},
   "outputs": [],
   "source": [
    "# model init\n",
    "model_emotion, model_gender, model_age = model_generate_emotion(8), model_generate_gender(2), model_generate_age(1)\n"
   ]
  },
  {
   "cell_type": "code",
   "execution_count": 6,
   "metadata": {},
   "outputs": [],
   "source": [
    "# Load the weights into our models\n",
    "model_emotion.load_weights('weights-emotion.h5')\n",
    "model_gender.load_weights('weights-gender.h5')\n",
    "model_age.load_weights('weights-age.h5')"
   ]
  },
  {
   "cell_type": "code",
   "execution_count": 7,
   "metadata": {
    "scrolled": true
   },
   "outputs": [
    {
     "name": "stdout",
     "output_type": "stream",
     "text": [
      "3507/3507 [==============================] - 262s 75ms/step\n",
      "0.8400342172797263\n"
     ]
    }
   ],
   "source": [
    "# Test set accuracy\n",
    "compute_accuracy(model_emotion, X_test, Y_test)"
   ]
  },
  {
   "cell_type": "code",
   "execution_count": 67,
   "metadata": {
    "scrolled": false
   },
   "outputs": [
    {
     "name": "stdout",
     "output_type": "stream",
     "text": [
      "[[ 237    3   10    3    4   16   10    8]\n",
      " [   0    0    0    0    0    0    0    0]\n",
      " [   0    0    2    0    0    0    0    0]\n",
      " [   3    0    0   37    1    3    6    8]\n",
      " [  19    1    1    1  882   33   10   14]\n",
      " [  37   14    2    7   14 1041  109   11]\n",
      " [   9    6    3   11   10  130  296    2]\n",
      " [  10    2    2   37   14   27    6  395]]\n"
     ]
    }
   ],
   "source": [
    "# accuracies\n",
    "#from sklearn.metrics import confusion_matrix\n",
    "#Y_test_pred = model_emotion.predict(X_test, verbose=1)\n",
    "\n",
    "pred_ind = np.argmax(Y_test_pred, axis=1)\n",
    "predicted_emotion = [emotion_table.get(key) for key in pred_ind]\n",
    "\n",
    "act_ind = np.argmax(Y_test, axis=1)\n",
    "actual_emotion = [emotion_table.get(key) for key in act_ind]\n",
    "\n",
    "conf_tab = confusion_matrix(predicted_emotion, actual_emotion)\n",
    "print(conf_tab)"
   ]
  },
  {
   "cell_type": "code",
   "execution_count": 71,
   "metadata": {},
   "outputs": [
    {
     "name": "stdout",
     "output_type": "stream",
     "text": [
      "Normalized confusion matrix\n",
      "[[0.81 0.01 0.03 0.01 0.01 0.05 0.03 0.03]\n",
      " [ nan  nan  nan  nan  nan  nan  nan  nan]\n",
      " [0.   0.   1.   0.   0.   0.   0.   0.  ]\n",
      " [0.05 0.   0.   0.64 0.02 0.05 0.1  0.14]\n",
      " [0.02 0.   0.   0.   0.92 0.03 0.01 0.01]\n",
      " [0.03 0.01 0.   0.01 0.01 0.84 0.09 0.01]\n",
      " [0.02 0.01 0.01 0.02 0.02 0.28 0.63 0.  ]\n",
      " [0.02 0.   0.   0.08 0.03 0.05 0.01 0.8 ]]\n"
     ]
    },
    {
     "name": "stderr",
     "output_type": "stream",
     "text": [
      "C:\\Users\\yantongz\\Anaconda3\\lib\\site-packages\\ipykernel_launcher.py:14: RuntimeWarning: invalid value encountered in true_divide\n",
      "  \n"
     ]
    },
    {
     "ename": "NameError",
     "evalue": "name 'itertools' is not defined",
     "output_type": "error",
     "traceback": [
      "\u001b[1;31m---------------------------------------------------------------------------\u001b[0m",
      "\u001b[1;31mNameError\u001b[0m                                 Traceback (most recent call last)",
      "\u001b[1;32m<ipython-input-71-daf7c8934089>\u001b[0m in \u001b[0;36m<module>\u001b[1;34m()\u001b[0m\n\u001b[0;32m     43\u001b[0m \u001b[0mplt\u001b[0m\u001b[1;33m.\u001b[0m\u001b[0mfigure\u001b[0m\u001b[1;33m(\u001b[0m\u001b[1;33m)\u001b[0m\u001b[1;33m\u001b[0m\u001b[0m\n\u001b[0;32m     44\u001b[0m plot_confusion_matrix(conf_tab, classes=emotion_table.values(), normalize = True, \n\u001b[1;32m---> 45\u001b[1;33m                       title='Confusion matrix, with normalization')\n\u001b[0m",
      "\u001b[1;32m<ipython-input-71-daf7c8934089>\u001b[0m in \u001b[0;36mplot_confusion_matrix\u001b[1;34m(cm, classes, normalize, title, cmap)\u001b[0m\n\u001b[0;32m     28\u001b[0m     \u001b[0mfmt\u001b[0m \u001b[1;33m=\u001b[0m \u001b[1;34m'.2f'\u001b[0m \u001b[1;32mif\u001b[0m \u001b[0mnormalize\u001b[0m \u001b[1;32melse\u001b[0m \u001b[1;34m'd'\u001b[0m\u001b[1;33m\u001b[0m\u001b[0m\n\u001b[0;32m     29\u001b[0m     \u001b[0mthresh\u001b[0m \u001b[1;33m=\u001b[0m \u001b[0mcm\u001b[0m\u001b[1;33m.\u001b[0m\u001b[0mmax\u001b[0m\u001b[1;33m(\u001b[0m\u001b[1;33m)\u001b[0m \u001b[1;33m/\u001b[0m \u001b[1;36m2.\u001b[0m\u001b[1;33m\u001b[0m\u001b[0m\n\u001b[1;32m---> 30\u001b[1;33m     \u001b[1;32mfor\u001b[0m \u001b[0mi\u001b[0m\u001b[1;33m,\u001b[0m \u001b[0mj\u001b[0m \u001b[1;32min\u001b[0m \u001b[0mitertools\u001b[0m\u001b[1;33m.\u001b[0m\u001b[0mproduct\u001b[0m\u001b[1;33m(\u001b[0m\u001b[0mrange\u001b[0m\u001b[1;33m(\u001b[0m\u001b[0mcm\u001b[0m\u001b[1;33m.\u001b[0m\u001b[0mshape\u001b[0m\u001b[1;33m[\u001b[0m\u001b[1;36m0\u001b[0m\u001b[1;33m]\u001b[0m\u001b[1;33m)\u001b[0m\u001b[1;33m,\u001b[0m \u001b[0mrange\u001b[0m\u001b[1;33m(\u001b[0m\u001b[0mcm\u001b[0m\u001b[1;33m.\u001b[0m\u001b[0mshape\u001b[0m\u001b[1;33m[\u001b[0m\u001b[1;36m1\u001b[0m\u001b[1;33m]\u001b[0m\u001b[1;33m)\u001b[0m\u001b[1;33m)\u001b[0m\u001b[1;33m:\u001b[0m\u001b[1;33m\u001b[0m\u001b[0m\n\u001b[0m\u001b[0;32m     31\u001b[0m         plt.text(j, i, format(cm[i, j], fmt),\n\u001b[0;32m     32\u001b[0m                  \u001b[0mhorizontalalignment\u001b[0m\u001b[1;33m=\u001b[0m\u001b[1;34m\"center\"\u001b[0m\u001b[1;33m,\u001b[0m\u001b[1;33m\u001b[0m\u001b[0m\n",
      "\u001b[1;31mNameError\u001b[0m: name 'itertools' is not defined"
     ]
    },
    {
     "data": {
      "image/png": "[encoded data removed]",
      "text/plain": [
       "<Figure size 432x288 with 2 Axes>"
      ]
     },
     "metadata": {},
     "output_type": "display_data"
    }
   ],
   "source": [
    "import seaborn as sn\n",
    "import pandas as pd\n",
    "import matplotlib.pyplot as plt\n",
    "\n",
    "def plot_confusion_matrix(cm, classes,\n",
    "                          normalize=False,\n",
    "                          title='Confusion matrix',\n",
    "                          cmap=plt.cm.Blues):\n",
    "    \"\"\"\n",
    "    This function prints and plots the confusion matrix.\n",
    "    Normalization can be applied by setting `normalize=True`.\n",
    "    \"\"\"\n",
    "    if normalize:\n",
    "        cm = cm.astype('float') / cm.sum(axis=1)[:, np.newaxis]\n",
    "        print(\"Normalized confusion matrix\")\n",
    "    else:\n",
    "        print('Confusion matrix, without normalization')\n",
    "\n",
    "    print(cm)\n",
    "\n",
    "    plt.imshow(cm, interpolation='nearest', cmap=cmap)\n",
    "    plt.title(title)\n",
    "    plt.colorbar()\n",
    "    tick_marks = np.arange(len(classes))\n",
    "    plt.xticks(tick_marks, classes, rotation=45)\n",
    "    plt.yticks(tick_marks, classes)\n",
    "\n",
    "    fmt = '.2f' if normalize else 'd'\n",
    "    thresh = cm.max() / 2.\n",
    "    for i, j in itertools.product(range(cm.shape[0]), range(cm.shape[1])):\n",
    "        plt.text(j, i, format(cm[i, j], fmt),\n",
    "                 horizontalalignment=\"center\",\n",
    "                 color=\"white\" if cm[i, j] > thresh else \"black\")\n",
    "\n",
    "    plt.ylabel('True label')\n",
    "    plt.xlabel('Predicted label')\n",
    "    plt.tight_layout()\n",
    "\n",
    "\n",
    "np.set_printoptions(precision=2)\n",
    "\n",
    "# Plot non-normalized confusion matrix\n",
    "plt.figure()\n",
    "plot_confusion_matrix(conf_tab, classes=emotion_table.values(), normalize = True, \n",
    "                      title='Confusion matrix, with normalization')"
   ]
  },
  {
   "cell_type": "markdown",
   "metadata": {},
   "source": [
    "### Image example"
   ]
  },
  {
   "cell_type": "code",
   "execution_count": 8,
   "metadata": {},
   "outputs": [
    {
     "data": {
      "text/plain": [
       "<matplotlib.image.AxesImage at 0x2a386aeb4a8>"
      ]
     },
     "execution_count": 8,
     "metadata": {},
     "output_type": "execute_result"
    },
    {
     "data": {
      "image/png": "[encoded data removed]",
      "text/plain": [
       "<Figure size 432x288 with 1 Axes>"
      ]
     },
     "metadata": {},
     "output_type": "display_data"
    }
   ],
   "source": [
    "img = np.reshape(X_test[222], newshape=(1,64,64,1))\n",
    "imshow(np.reshape(img, newshape=(64,64)), cmap='gray')"
   ]
  },
  {
   "cell_type": "code",
   "execution_count": 9,
   "metadata": {},
   "outputs": [
    {
     "name": "stdout",
     "output_type": "stream",
     "text": [
      "Actual Emotion: anger\n"
     ]
    }
   ],
   "source": [
    "actual_emotion = emotion_table[np.argmax(Y_test[300])]\n",
    "print('Actual Emotion:', actual_emotion)"
   ]
  },
  {
   "cell_type": "code",
   "execution_count": 10,
   "metadata": {},
   "outputs": [
    {
     "name": "stdout",
     "output_type": "stream",
     "text": [
      "Predicted Emotion: sadness\n"
     ]
    }
   ],
   "source": [
    "predicted_emotion = emotion_table[np.argmax(model_emotion.predict(img))]\n",
    "print('Predicted Emotion:', predicted_emotion)"
   ]
  },
  {
   "cell_type": "code",
   "execution_count": 11,
   "metadata": {},
   "outputs": [
    {
     "name": "stdout",
     "output_type": "stream",
     "text": [
      "Predicted Gender: woman\n"
     ]
    }
   ],
   "source": [
    "predicted_gender = gender_table[np.argmax(model_gender.predict(img))]\n",
    "print('Predicted Gender:', predicted_gender)"
   ]
  }
 ],
 "metadata": {
  "kernelspec": {
   "display_name": "Python 3",
   "language": "python",
   "name": "python3"
  },
  "language_info": {
   "codemirror_mode": {
    "name": "ipython",
    "version": 3
   },
   "file_extension": ".py",
   "mimetype": "text/x-python",
   "name": "python",
   "nbconvert_exporter": "python",
   "pygments_lexer": "ipython3",
   "version": "3.6.5"
  }
 },
 "nbformat": 4,
 "nbformat_minor": 2
}

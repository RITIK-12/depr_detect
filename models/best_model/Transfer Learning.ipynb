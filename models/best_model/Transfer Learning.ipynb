{
 "cells": [
  {
   "cell_type": "code",
   "execution_count": null,
   "metadata": {
    "ExecuteTime": {
     "end_time": "2019-06-25T10:24:41.390390Z",
     "start_time": "2019-06-25T10:24:40.571070Z"
    }
   },
   "outputs": [],
   "source": [
    "import numpy as np\n",
    "from model_age import model_generate_age\n",
    "from model_gender import model_generate_gender\n",
    "from model_emotion import model_generate_emotion\n",
    "from matplotlib.pyplot import imshow\n",
    "from keras import optimizers\n",
    "import os\n",
    "import tensorflow as tf\n",
    "import keras.backend.tensorflow_backend as KTF\n",
    "\n",
    "os.environ[\"CUDA_VISIBLE_DEVICES\"] = \"1\"\n",
    "config = tf.ConfigProto()\n",
    "config.gpu_options.per_process_gpu_memory_fraction = 0.6\n",
    "session = tf.Session(config=config)\n",
    "KTF.set_session(session)"
   ]
  },
  {
   "cell_type": "code",
   "execution_count": null,
   "metadata": {
    "ExecuteTime": {
     "end_time": "2019-06-25T10:24:46.960551Z",
     "start_time": "2019-06-25T10:24:46.954568Z"
    }
   },
   "outputs": [],
   "source": [
    "# Compute the accuracy of the emotion dataset\n",
    "def compute_accuracy(model, X_test, Y_test):\n",
    "    Y_test_pred = model.predict(X_test, verbose=1)\n",
    "    Y_test_pred_arg = np.argmax(Y_test_pred, axis=1)\n",
    "    count = 0\n",
    "    for i in range(Y_test.shape[0]):\n",
    "        if (Y_test[i][Y_test_pred_arg[i]] == np.max(Y_test[i])):\n",
    "            count += 1\n",
    "    accuracy_score_test = count / Y_test.shape[0]\n",
    "    print(accuracy_score_test)"
   ]
  },
  {
   "cell_type": "code",
   "execution_count": null,
   "metadata": {
    "ExecuteTime": {
     "end_time": "2019-06-25T10:24:48.807622Z",
     "start_time": "2019-06-25T10:24:48.423650Z"
    }
   },
   "outputs": [],
   "source": [
    "model_emotion = model_generate_emotion(2)"
   ]
  },
  {
   "cell_type": "code",
   "execution_count": null,
   "metadata": {
    "ExecuteTime": {
     "end_time": "2019-06-25T10:24:50.854671Z",
     "start_time": "2019-06-25T10:24:50.122123Z"
    }
   },
   "outputs": [],
   "source": [
    "model_emotion.load_weights('../logs/weights-emotion.h5',skip_mismatch=True,by_name=True)"
   ]
  },
  {
   "cell_type": "code",
   "execution_count": null,
   "metadata": {
    "ExecuteTime": {
     "end_time": "2019-06-25T10:24:54.801645Z",
     "start_time": "2019-06-25T10:24:54.714880Z"
    }
   },
   "outputs": [],
   "source": [
    "sgd = optimizers.SGD(lr=0.00001, decay=1e-6, momentum=0.9, nesterov=True)\n",
    "Adam = optimizers.Adam(lr=0.00001, beta_1=0.9, beta_2=0.999, epsilon=1e-08)\n",
    "model_emotion.compile(optimizer='adam', loss='categorical_crossentropy')"
   ]
  },
  {
   "cell_type": "code",
   "execution_count": null,
   "metadata": {
    "ExecuteTime": {
     "end_time": "2019-06-25T10:24:58.087910Z",
     "start_time": "2019-06-25T10:24:58.018092Z"
    }
   },
   "outputs": [],
   "source": [
    "X = np.load('face_X.npy')\n",
    "Y = np.load('face_Y.npy')\n",
    "y_ = []\n",
    "for i in Y:\n",
    "    y = np.zeros(2,dtype=np.float)\n",
    "    y[i] = 1.0\n",
    "    y_.append(y)"
   ]
  },
  {
   "cell_type": "code",
   "execution_count": null,
   "metadata": {
    "ExecuteTime": {
     "end_time": "2019-06-25T10:25:01.567120Z",
     "start_time": "2019-06-25T10:25:00.694949Z"
    }
   },
   "outputs": [],
   "source": [
    "from sklearn.model_selection import train_test_split\n",
    "x_train, x_test, y_train, y_test = train_test_split(X, y_, random_state=0, test_size=0.2)"
   ]
  },
  {
   "cell_type": "code",
   "execution_count": null,
   "metadata": {
    "ExecuteTime": {
     "start_time": "2019-06-25T10:28:37.803Z"
    }
   },
   "outputs": [],
   "source": [
    "for i in range(400):\n",
    "    model_emotion.fit(np.array(x_train),np.array(y_train))\n",
    "    compute_accuracy(model_emotion, np.array(x_test), np.array(y_test))\n",
    "model_emotion.save('depressed_model.h5')"
   ]
  },
  {
   "cell_type": "code",
   "execution_count": null,
   "metadata": {
    "ExecuteTime": {
     "end_time": "2019-06-25T10:23:01.457542Z",
     "start_time": "2019-06-25T10:23:01.440585Z"
    }
   },
   "outputs": [],
   "source": []
  },
  {
   "cell_type": "code",
   "execution_count": null,
   "metadata": {},
   "outputs": [],
   "source": []
  },
  {
   "cell_type": "code",
   "execution_count": null,
   "metadata": {},
   "outputs": [],
   "source": []
  }
 ],
 "metadata": {
  "kernelspec": {
   "display_name": "Python 3",
   "language": "python",
   "name": "python3"
  },
  "language_info": {
   "codemirror_mode": {
    "name": "ipython",
    "version": 3
   },
   "file_extension": ".py",
   "mimetype": "text/x-python",
   "name": "python",
   "nbconvert_exporter": "python",
   "pygments_lexer": "ipython3",
   "version": "3.6.5"
  }
 },
 "nbformat": 4,
 "nbformat_minor": 2
}
